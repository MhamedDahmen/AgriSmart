{
  "nbformat": 4,
  "nbformat_minor": 0,
  "metadata": {
    "colab": {
      "provenance": []
    },
    "kernelspec": {
      "name": "python3",
      "display_name": "Python 3"
    },
    "language_info": {
      "name": "python"
    }
  },
  "cells": [
    {
      "cell_type": "code",
      "execution_count": null,
      "metadata": {
        "id": "qqySl_dkXc-6"
      },
      "outputs": [],
      "source": [
        "import pandas as pd\n",
        "\n",
        "# Chargement\n",
        "df = pd.read_csv(\"/content/dataset_irrigation_synthetique.csv\")"
      ]
    },
    {
      "cell_type": "code",
      "source": [
        "df.head()"
      ],
      "metadata": {
        "colab": {
          "base_uri": "https://localhost:8080/",
          "height": 206
        },
        "id": "FOO9ad0KXq8h",
        "outputId": "4e4e7712-11d0-4919-8cfb-d7ef501420bc"
      },
      "execution_count": null,
      "outputs": [
        {
          "output_type": "execute_result",
          "data": {
            "text/plain": [
              "   temperature_air  temperature_sol  humidite_air  humidite_sol    ph_eau  \\\n",
              "0        27.483571        20.881202     49.822579     37.131536  6.674143   \n",
              "1        24.308678        20.732929     55.417508     39.346882  6.641662   \n",
              "2        28.238443        14.021784     51.039284     41.285898  6.031740   \n",
              "3        32.615149        21.349549     61.656271     58.937229  6.789792   \n",
              "4        23.829233        26.664145     77.957678     25.055654  5.754959   \n",
              "\n",
              "   debit_eau  conductivite_eau  luminosite  besoin_irrigation  \n",
              "0   1.071016          1.286952  188.973891                  2  \n",
              "1   1.990146          0.842401  173.879682                  2  \n",
              "2   0.284262          0.954300  713.398847                  2  \n",
              "3   1.724453          1.477001  711.930462                  1  \n",
              "4   0.994406          1.763070  530.773761                  3  "
            ],
            "text/html": [
              "\n",
              "  <div id=\"df-1e1b8dbd-f44c-4dda-a74a-571d739626f8\" class=\"colab-df-container\">\n",
              "    <div>\n",
              "<style scoped>\n",
              "    .dataframe tbody tr th:only-of-type {\n",
              "        vertical-align: middle;\n",
              "    }\n",
              "\n",
              "    .dataframe tbody tr th {\n",
              "        vertical-align: top;\n",
              "    }\n",
              "\n",
              "    .dataframe thead th {\n",
              "        text-align: right;\n",
              "    }\n",
              "</style>\n",
              "<table border=\"1\" class=\"dataframe\">\n",
              "  <thead>\n",
              "    <tr style=\"text-align: right;\">\n",
              "      <th></th>\n",
              "      <th>temperature_air</th>\n",
              "      <th>temperature_sol</th>\n",
              "      <th>humidite_air</th>\n",
              "      <th>humidite_sol</th>\n",
              "      <th>ph_eau</th>\n",
              "      <th>debit_eau</th>\n",
              "      <th>conductivite_eau</th>\n",
              "      <th>luminosite</th>\n",
              "      <th>besoin_irrigation</th>\n",
              "    </tr>\n",
              "  </thead>\n",
              "  <tbody>\n",
              "    <tr>\n",
              "      <th>0</th>\n",
              "      <td>27.483571</td>\n",
              "      <td>20.881202</td>\n",
              "      <td>49.822579</td>\n",
              "      <td>37.131536</td>\n",
              "      <td>6.674143</td>\n",
              "      <td>1.071016</td>\n",
              "      <td>1.286952</td>\n",
              "      <td>188.973891</td>\n",
              "      <td>2</td>\n",
              "    </tr>\n",
              "    <tr>\n",
              "      <th>1</th>\n",
              "      <td>24.308678</td>\n",
              "      <td>20.732929</td>\n",
              "      <td>55.417508</td>\n",
              "      <td>39.346882</td>\n",
              "      <td>6.641662</td>\n",
              "      <td>1.990146</td>\n",
              "      <td>0.842401</td>\n",
              "      <td>173.879682</td>\n",
              "      <td>2</td>\n",
              "    </tr>\n",
              "    <tr>\n",
              "      <th>2</th>\n",
              "      <td>28.238443</td>\n",
              "      <td>14.021784</td>\n",
              "      <td>51.039284</td>\n",
              "      <td>41.285898</td>\n",
              "      <td>6.031740</td>\n",
              "      <td>0.284262</td>\n",
              "      <td>0.954300</td>\n",
              "      <td>713.398847</td>\n",
              "      <td>2</td>\n",
              "    </tr>\n",
              "    <tr>\n",
              "      <th>3</th>\n",
              "      <td>32.615149</td>\n",
              "      <td>21.349549</td>\n",
              "      <td>61.656271</td>\n",
              "      <td>58.937229</td>\n",
              "      <td>6.789792</td>\n",
              "      <td>1.724453</td>\n",
              "      <td>1.477001</td>\n",
              "      <td>711.930462</td>\n",
              "      <td>1</td>\n",
              "    </tr>\n",
              "    <tr>\n",
              "      <th>4</th>\n",
              "      <td>23.829233</td>\n",
              "      <td>26.664145</td>\n",
              "      <td>77.957678</td>\n",
              "      <td>25.055654</td>\n",
              "      <td>5.754959</td>\n",
              "      <td>0.994406</td>\n",
              "      <td>1.763070</td>\n",
              "      <td>530.773761</td>\n",
              "      <td>3</td>\n",
              "    </tr>\n",
              "  </tbody>\n",
              "</table>\n",
              "</div>\n",
              "    <div class=\"colab-df-buttons\">\n",
              "\n",
              "  <div class=\"colab-df-container\">\n",
              "    <button class=\"colab-df-convert\" onclick=\"convertToInteractive('df-1e1b8dbd-f44c-4dda-a74a-571d739626f8')\"\n",
              "            title=\"Convert this dataframe to an interactive table.\"\n",
              "            style=\"display:none;\">\n",
              "\n",
              "  <svg xmlns=\"http://www.w3.org/2000/svg\" height=\"24px\" viewBox=\"0 -960 960 960\">\n",
              "    <path d=\"M120-120v-720h720v720H120Zm60-500h600v-160H180v160Zm220 220h160v-160H400v160Zm0 220h160v-160H400v160ZM180-400h160v-160H180v160Zm440 0h160v-160H620v160ZM180-180h160v-160H180v160Zm440 0h160v-160H620v160Z\"/>\n",
              "  </svg>\n",
              "    </button>\n",
              "\n",
              "  <style>\n",
              "    .colab-df-container {\n",
              "      display:flex;\n",
              "      gap: 12px;\n",
              "    }\n",
              "\n",
              "    .colab-df-convert {\n",
              "      background-color: #E8F0FE;\n",
              "      border: none;\n",
              "      border-radius: 50%;\n",
              "      cursor: pointer;\n",
              "      display: none;\n",
              "      fill: #1967D2;\n",
              "      height: 32px;\n",
              "      padding: 0 0 0 0;\n",
              "      width: 32px;\n",
              "    }\n",
              "\n",
              "    .colab-df-convert:hover {\n",
              "      background-color: #E2EBFA;\n",
              "      box-shadow: 0px 1px 2px rgba(60, 64, 67, 0.3), 0px 1px 3px 1px rgba(60, 64, 67, 0.15);\n",
              "      fill: #174EA6;\n",
              "    }\n",
              "\n",
              "    .colab-df-buttons div {\n",
              "      margin-bottom: 4px;\n",
              "    }\n",
              "\n",
              "    [theme=dark] .colab-df-convert {\n",
              "      background-color: #3B4455;\n",
              "      fill: #D2E3FC;\n",
              "    }\n",
              "\n",
              "    [theme=dark] .colab-df-convert:hover {\n",
              "      background-color: #434B5C;\n",
              "      box-shadow: 0px 1px 3px 1px rgba(0, 0, 0, 0.15);\n",
              "      filter: drop-shadow(0px 1px 2px rgba(0, 0, 0, 0.3));\n",
              "      fill: #FFFFFF;\n",
              "    }\n",
              "  </style>\n",
              "\n",
              "    <script>\n",
              "      const buttonEl =\n",
              "        document.querySelector('#df-1e1b8dbd-f44c-4dda-a74a-571d739626f8 button.colab-df-convert');\n",
              "      buttonEl.style.display =\n",
              "        google.colab.kernel.accessAllowed ? 'block' : 'none';\n",
              "\n",
              "      async function convertToInteractive(key) {\n",
              "        const element = document.querySelector('#df-1e1b8dbd-f44c-4dda-a74a-571d739626f8');\n",
              "        const dataTable =\n",
              "          await google.colab.kernel.invokeFunction('convertToInteractive',\n",
              "                                                    [key], {});\n",
              "        if (!dataTable) return;\n",
              "\n",
              "        const docLinkHtml = 'Like what you see? Visit the ' +\n",
              "          '<a target=\"_blank\" href=https://colab.research.google.com/notebooks/data_table.ipynb>data table notebook</a>'\n",
              "          + ' to learn more about interactive tables.';\n",
              "        element.innerHTML = '';\n",
              "        dataTable['output_type'] = 'display_data';\n",
              "        await google.colab.output.renderOutput(dataTable, element);\n",
              "        const docLink = document.createElement('div');\n",
              "        docLink.innerHTML = docLinkHtml;\n",
              "        element.appendChild(docLink);\n",
              "      }\n",
              "    </script>\n",
              "  </div>\n",
              "\n",
              "\n",
              "    <div id=\"df-cca6326e-84ed-4816-ad69-889ffe3f14d4\">\n",
              "      <button class=\"colab-df-quickchart\" onclick=\"quickchart('df-cca6326e-84ed-4816-ad69-889ffe3f14d4')\"\n",
              "                title=\"Suggest charts\"\n",
              "                style=\"display:none;\">\n",
              "\n",
              "<svg xmlns=\"http://www.w3.org/2000/svg\" height=\"24px\"viewBox=\"0 0 24 24\"\n",
              "     width=\"24px\">\n",
              "    <g>\n",
              "        <path d=\"M19 3H5c-1.1 0-2 .9-2 2v14c0 1.1.9 2 2 2h14c1.1 0 2-.9 2-2V5c0-1.1-.9-2-2-2zM9 17H7v-7h2v7zm4 0h-2V7h2v10zm4 0h-2v-4h2v4z\"/>\n",
              "    </g>\n",
              "</svg>\n",
              "      </button>\n",
              "\n",
              "<style>\n",
              "  .colab-df-quickchart {\n",
              "      --bg-color: #E8F0FE;\n",
              "      --fill-color: #1967D2;\n",
              "      --hover-bg-color: #E2EBFA;\n",
              "      --hover-fill-color: #174EA6;\n",
              "      --disabled-fill-color: #AAA;\n",
              "      --disabled-bg-color: #DDD;\n",
              "  }\n",
              "\n",
              "  [theme=dark] .colab-df-quickchart {\n",
              "      --bg-color: #3B4455;\n",
              "      --fill-color: #D2E3FC;\n",
              "      --hover-bg-color: #434B5C;\n",
              "      --hover-fill-color: #FFFFFF;\n",
              "      --disabled-bg-color: #3B4455;\n",
              "      --disabled-fill-color: #666;\n",
              "  }\n",
              "\n",
              "  .colab-df-quickchart {\n",
              "    background-color: var(--bg-color);\n",
              "    border: none;\n",
              "    border-radius: 50%;\n",
              "    cursor: pointer;\n",
              "    display: none;\n",
              "    fill: var(--fill-color);\n",
              "    height: 32px;\n",
              "    padding: 0;\n",
              "    width: 32px;\n",
              "  }\n",
              "\n",
              "  .colab-df-quickchart:hover {\n",
              "    background-color: var(--hover-bg-color);\n",
              "    box-shadow: 0 1px 2px rgba(60, 64, 67, 0.3), 0 1px 3px 1px rgba(60, 64, 67, 0.15);\n",
              "    fill: var(--button-hover-fill-color);\n",
              "  }\n",
              "\n",
              "  .colab-df-quickchart-complete:disabled,\n",
              "  .colab-df-quickchart-complete:disabled:hover {\n",
              "    background-color: var(--disabled-bg-color);\n",
              "    fill: var(--disabled-fill-color);\n",
              "    box-shadow: none;\n",
              "  }\n",
              "\n",
              "  .colab-df-spinner {\n",
              "    border: 2px solid var(--fill-color);\n",
              "    border-color: transparent;\n",
              "    border-bottom-color: var(--fill-color);\n",
              "    animation:\n",
              "      spin 1s steps(1) infinite;\n",
              "  }\n",
              "\n",
              "  @keyframes spin {\n",
              "    0% {\n",
              "      border-color: transparent;\n",
              "      border-bottom-color: var(--fill-color);\n",
              "      border-left-color: var(--fill-color);\n",
              "    }\n",
              "    20% {\n",
              "      border-color: transparent;\n",
              "      border-left-color: var(--fill-color);\n",
              "      border-top-color: var(--fill-color);\n",
              "    }\n",
              "    30% {\n",
              "      border-color: transparent;\n",
              "      border-left-color: var(--fill-color);\n",
              "      border-top-color: var(--fill-color);\n",
              "      border-right-color: var(--fill-color);\n",
              "    }\n",
              "    40% {\n",
              "      border-color: transparent;\n",
              "      border-right-color: var(--fill-color);\n",
              "      border-top-color: var(--fill-color);\n",
              "    }\n",
              "    60% {\n",
              "      border-color: transparent;\n",
              "      border-right-color: var(--fill-color);\n",
              "    }\n",
              "    80% {\n",
              "      border-color: transparent;\n",
              "      border-right-color: var(--fill-color);\n",
              "      border-bottom-color: var(--fill-color);\n",
              "    }\n",
              "    90% {\n",
              "      border-color: transparent;\n",
              "      border-bottom-color: var(--fill-color);\n",
              "    }\n",
              "  }\n",
              "</style>\n",
              "\n",
              "      <script>\n",
              "        async function quickchart(key) {\n",
              "          const quickchartButtonEl =\n",
              "            document.querySelector('#' + key + ' button');\n",
              "          quickchartButtonEl.disabled = true;  // To prevent multiple clicks.\n",
              "          quickchartButtonEl.classList.add('colab-df-spinner');\n",
              "          try {\n",
              "            const charts = await google.colab.kernel.invokeFunction(\n",
              "                'suggestCharts', [key], {});\n",
              "          } catch (error) {\n",
              "            console.error('Error during call to suggestCharts:', error);\n",
              "          }\n",
              "          quickchartButtonEl.classList.remove('colab-df-spinner');\n",
              "          quickchartButtonEl.classList.add('colab-df-quickchart-complete');\n",
              "        }\n",
              "        (() => {\n",
              "          let quickchartButtonEl =\n",
              "            document.querySelector('#df-cca6326e-84ed-4816-ad69-889ffe3f14d4 button');\n",
              "          quickchartButtonEl.style.display =\n",
              "            google.colab.kernel.accessAllowed ? 'block' : 'none';\n",
              "        })();\n",
              "      </script>\n",
              "    </div>\n",
              "\n",
              "    </div>\n",
              "  </div>\n"
            ],
            "application/vnd.google.colaboratory.intrinsic+json": {
              "type": "dataframe",
              "variable_name": "df",
              "summary": "{\n  \"name\": \"df\",\n  \"rows\": 5000,\n  \"fields\": [\n    {\n      \"column\": \"temperature_air\",\n      \"properties\": {\n        \"dtype\": \"number\",\n        \"std\": 4.982399144104698,\n        \"min\": 8.793663299654636,\n        \"max\": 44.63118853218163,\n        \"num_unique_values\": 5000,\n        \"samples\": [\n          22.244071418357333,\n          18.40376402700616,\n          30.152902928120287\n        ],\n        \"semantic_type\": \"\",\n        \"description\": \"\"\n      }\n    },\n    {\n      \"column\": \"temperature_sol\",\n      \"properties\": {\n        \"dtype\": \"number\",\n        \"std\": 5.052185423149166,\n        \"min\": 3.3879987419082878,\n        \"max\": 40.64527593785242,\n        \"num_unique_values\": 5000,\n        \"samples\": [\n          16.949197485095574,\n          17.80389918004617,\n          25.41395062030159\n        ],\n        \"semantic_type\": \"\",\n        \"description\": \"\"\n      }\n    },\n    {\n      \"column\": \"humidite_air\",\n      \"properties\": {\n        \"dtype\": \"number\",\n        \"std\": 14.981547711383028,\n        \"min\": 9.366313497336002,\n        \"max\": 111.4336571701232,\n        \"num_unique_values\": 5000,\n        \"samples\": [\n          66.30464726227807,\n          81.2976673105958,\n          65.73175755888776\n        ],\n        \"semantic_type\": \"\",\n        \"description\": \"\"\n      }\n    },\n    {\n      \"column\": \"humidite_sol\",\n      \"properties\": {\n        \"dtype\": \"number\",\n        \"std\": 19.5785532984526,\n        \"min\": 0.0,\n        \"max\": 100.0,\n        \"num_unique_values\": 4887,\n        \"samples\": [\n          31.77086980467036,\n          33.187918445124666,\n          44.10826540915502\n        ],\n        \"semantic_type\": \"\",\n        \"description\": \"\"\n      }\n    },\n    {\n      \"column\": \"ph_eau\",\n      \"properties\": {\n        \"dtype\": \"number\",\n        \"std\": 0.49168732112803587,\n        \"min\": 4.672456742447947,\n        \"max\": 8.305675031407835,\n        \"num_unique_values\": 5000,\n        \"samples\": [\n          7.034444637772099,\n          6.267765683611217,\n          6.2675434622219885\n        ],\n        \"semantic_type\": \"\",\n        \"description\": \"\"\n      }\n    },\n    {\n      \"column\": \"debit_eau\",\n      \"properties\": {\n        \"dtype\": \"number\",\n        \"std\": 0.5746907071059183,\n        \"min\": 1.1073351475987536e-05,\n        \"max\": 1.9995787436251904,\n        \"num_unique_values\": 5000,\n        \"samples\": [\n          0.0459304205778314,\n          0.6317565328052219,\n          0.0025002550369992\n        ],\n        \"semantic_type\": \"\",\n        \"description\": \"\"\n      }\n    },\n    {\n      \"column\": \"conductivite_eau\",\n      \"properties\": {\n        \"dtype\": \"number\",\n        \"std\": 0.30645415073534393,\n        \"min\": -0.1396811590586633,\n        \"max\": 2.3183500034289564,\n        \"num_unique_values\": 5000,\n        \"samples\": [\n          1.3832643849155963,\n          0.6834478377102957,\n          0.6247934973579765\n        ],\n        \"semantic_type\": \"\",\n        \"description\": \"\"\n      }\n    },\n    {\n      \"column\": \"luminosite\",\n      \"properties\": {\n        \"dtype\": \"number\",\n        \"std\": 291.34921124698343,\n        \"min\": 0.093593858272345,\n        \"max\": 999.9721473679824,\n        \"num_unique_values\": 5000,\n        \"samples\": [\n          535.0581715162522,\n          739.7521109884252,\n          852.3371097477203\n        ],\n        \"semantic_type\": \"\",\n        \"description\": \"\"\n      }\n    },\n    {\n      \"column\": \"besoin_irrigation\",\n      \"properties\": {\n        \"dtype\": \"number\",\n        \"std\": 0,\n        \"min\": 0,\n        \"max\": 3,\n        \"num_unique_values\": 4,\n        \"samples\": [\n          1,\n          0,\n          2\n        ],\n        \"semantic_type\": \"\",\n        \"description\": \"\"\n      }\n    }\n  ]\n}"
            }
          },
          "metadata": {},
          "execution_count": 4
        }
      ]
    },
    {
      "cell_type": "code",
      "source": [
        "colonnes_features = ['temperature_sol', 'temperature_air', 'humidite_sol', 'humidite_air', 'luminosite']\n",
        "cible = 'besoin_irrigation'\n",
        "\n",
        "# Sélection des features\n",
        "X = df[colonnes_features]\n",
        "y = df[cible]\n",
        "\n",
        "# Vérification rapide\n",
        "print(X.head())\n",
        "print(y.value_counts())"
      ],
      "metadata": {
        "colab": {
          "base_uri": "https://localhost:8080/"
        },
        "id": "PQHSat-oX0Qa",
        "outputId": "6f7370b4-d533-481f-cafa-9277f7faea69"
      },
      "execution_count": null,
      "outputs": [
        {
          "output_type": "stream",
          "name": "stdout",
          "text": [
            "   temperature_sol  temperature_air  humidite_sol  humidite_air  luminosite\n",
            "0        20.881202        27.483571     37.131536     49.822579  188.973891\n",
            "1        20.732929        24.308678     39.346882     55.417508  173.879682\n",
            "2        14.021784        28.238443     41.285898     51.039284  713.398847\n",
            "3        21.349549        32.615149     58.937229     61.656271  711.930462\n",
            "4        26.664145        23.829233     25.055654     77.957678  530.773761\n",
            "besoin_irrigation\n",
            "2    1891\n",
            "3    1534\n",
            "1    1221\n",
            "0     354\n",
            "Name: count, dtype: int64\n"
          ]
        }
      ]
    },
    {
      "cell_type": "code",
      "source": [
        "from sklearn.model_selection import train_test_split\n",
        "from sklearn.preprocessing import StandardScaler\n",
        "from sklearn.ensemble import RandomForestClassifier\n",
        "\n",
        "# Split train/test stratifié\n",
        "X_train, X_test, y_train, y_test = train_test_split(\n",
        "    X, y, test_size=0.2, random_state=42, stratify=y)\n",
        "\n",
        "# Standardisation\n",
        "scaler = StandardScaler()\n",
        "X_train_scaled = scaler.fit_transform(X_train)\n",
        "X_test_scaled = scaler.transform(X_test)\n",
        "\n",
        "# Modèle Random Forest\n",
        "clf = RandomForestClassifier(n_estimators=100, random_state=42)\n",
        "clf.fit(X_train_scaled, y_train)\n",
        "\n",
        "# Prédiction\n",
        "y_pred = clf.predict(X_test_scaled)\n",
        "\n",
        "# Rapport classification\n",
        "from sklearn.metrics import classification_report\n",
        "print(classification_report(y_test, y_pred))\n"
      ],
      "metadata": {
        "colab": {
          "base_uri": "https://localhost:8080/"
        },
        "id": "JIzKiM3FYOva",
        "outputId": "d47b7bcb-3a39-4f1d-a4c5-6e11051ddffd"
      },
      "execution_count": null,
      "outputs": [
        {
          "output_type": "stream",
          "name": "stdout",
          "text": [
            "              precision    recall  f1-score   support\n",
            "\n",
            "           0       1.00      0.99      0.99        71\n",
            "           1       1.00      1.00      1.00       244\n",
            "           2       1.00      1.00      1.00       378\n",
            "           3       1.00      1.00      1.00       307\n",
            "\n",
            "    accuracy                           1.00      1000\n",
            "   macro avg       1.00      1.00      1.00      1000\n",
            "weighted avg       1.00      1.00      1.00      1000\n",
            "\n"
          ]
        }
      ]
    },
    {
      "cell_type": "code",
      "source": [
        "# Matrice de confusion\n",
        "from sklearn.metrics import confusion_matrix, ConfusionMatrixDisplay\n",
        "import matplotlib.pyplot as plt\n",
        "\n",
        "cm = confusion_matrix(y_test, y_pred)\n",
        "disp = ConfusionMatrixDisplay(confusion_matrix=cm, display_labels=clf.classes_)\n",
        "\n",
        "disp.plot(cmap='Blues')\n",
        "plt.title(\"Matrice de confusion\")\n",
        "plt.show()\n"
      ],
      "metadata": {
        "colab": {
          "base_uri": "https://localhost:8080/",
          "height": 472
        },
        "id": "uwzqlB54Yi0q",
        "outputId": "0468b702-eed9-49f9-cdef-cfa8c87961f5"
      },
      "execution_count": null,
      "outputs": [
        {
          "output_type": "display_data",
          "data": {
            "text/plain": [
              "<Figure size 640x480 with 2 Axes>"
            ],
            "image/png": "[encoded data removed]"
          },
          "metadata": {}
        }
      ]
    },
    {
      "cell_type": "code",
      "source": [
        "# Courbes Precision-Recall\n",
        "from sklearn.metrics import precision_recall_curve\n",
        "from sklearn.preprocessing import label_binarize\n",
        "\n",
        "y_test_bin = label_binarize(y_test, classes=clf.classes_)\n",
        "y_scores = clf.predict_proba(X_test_scaled)\n",
        "\n",
        "plt.figure(figsize=(8,6))\n",
        "for i in range(len(clf.classes_)):\n",
        "    precision, recall, _ = precision_recall_curve(y_test_bin[:, i], y_scores[:, i])\n",
        "    plt.plot(recall, precision, label=f'Classe {clf.classes_[i]}')\n",
        "\n",
        "plt.xlabel('Recall')\n",
        "plt.ylabel('Precision')\n",
        "plt.title('Courbes Precision-Recall par classe')\n",
        "plt.legend()\n",
        "plt.grid(True)\n",
        "plt.show()\n"
      ],
      "metadata": {
        "colab": {
          "base_uri": "https://localhost:8080/",
          "height": 564
        },
        "id": "YGwo5Yq0YqPh",
        "outputId": "a0c9ea82-1a86-4d88-802e-e6a5a65f5070"
      },
      "execution_count": null,
      "outputs": [
        {
          "output_type": "display_data",
          "data": {
            "text/plain": [
              "<Figure size 800x600 with 1 Axes>"
            ],
            "image/png": "[encoded data removed]"
          },
          "metadata": {}
        }
      ]
    },
    {
      "cell_type": "code",
      "source": [
        "# Fonction recommandation adaptée à 5 features\n",
        "def recommander_irrigation(input_features, model, scaler):\n",
        "\n",
        "    import numpy as np\n",
        "    input_array = np.array(input_features).reshape(1, -1)\n",
        "    input_scaled = scaler.transform(input_array)\n",
        "    classe = model.predict(input_scaled)[0]\n",
        "\n",
        "    recommandations = {\n",
        "        0: \"Aucun besoin d'irrigation\",\n",
        "        1: \"Irrigation légère recommandée\",\n",
        "        2: \"Irrigation modérée recommandée\",\n",
        "        3: \"Irrigation forte recommandée\"\n",
        "    }\n",
        "\n",
        "    return recommandations[classe]\n"
      ],
      "metadata": {
        "id": "k8e6TMRLY3DR"
      },
      "execution_count": null,
      "outputs": []
    },
    {
      "cell_type": "code",
      "source": [
        "donnees_test = [26.5, 30.2, 42.0, 55.0, 500]\n",
        "print(\"🔔 Recommandation IA :\", recommander_irrigation(donnees_test, clf, scaler))\n"
      ],
      "metadata": {
        "colab": {
          "base_uri": "https://localhost:8080/"
        },
        "id": "a90hyfEAY99a",
        "outputId": "b32b0c2d-3dca-42fd-8605-6670b22b1daf"
      },
      "execution_count": null,
      "outputs": [
        {
          "output_type": "stream",
          "name": "stdout",
          "text": [
            "🔔 Recommandation IA : Irrigation modérée recommandée\n"
          ]
        },
        {
          "output_type": "stream",
          "name": "stderr",
          "text": [
            "/usr/local/lib/python3.11/dist-packages/sklearn/utils/validation.py:2739: UserWarning: X does not have valid feature names, but StandardScaler was fitted with feature names\n",
            "  warnings.warn(\n"
          ]
        }
      ]
    },
    {
      "cell_type": "code",
      "source": [
        "import joblib\n",
        "\n",
        "# Après l'entraînement de votre modèle\n",
        "joblib.dump(clf, 'model_irrigation.joblib')\n",
        "joblib.dump(scaler, 'scaler.joblib')"
      ],
      "metadata": {
        "colab": {
          "base_uri": "https://localhost:8080/"
        },
        "id": "-gsecH0ENFik",
        "outputId": "bdb112c9-eb27-447d-a020-a5990fadfeb8"
      },
      "execution_count": null,
      "outputs": [
        {
          "output_type": "execute_result",
          "data": {
            "text/plain": [
              "['scaler.joblib']"
            ]
          },
          "metadata": {},
          "execution_count": 14
        }
      ]
    }
  ]
}